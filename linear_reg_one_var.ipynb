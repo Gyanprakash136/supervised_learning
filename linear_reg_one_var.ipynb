{
 "cells": [
  {
   "metadata": {
    "ExecuteTime": {
     "end_time": "2025-05-14T19:22:39.680099Z",
     "start_time": "2025-05-14T19:22:39.660039Z"
    }
   },
   "cell_type": "code",
   "source": [
    "import numpy as np\n",
    "import matplotlib.pyplot as plt\n",
    "import pandas as pd\n",
    "import math"
   ],
   "id": "43b0c399f32dbeda",
   "outputs": [],
   "execution_count": 26
  },
  {
   "metadata": {},
   "cell_type": "raw",
   "source": "Uploading of dataset",
   "id": "d15f6bf533e6c767"
  },
  {
   "metadata": {
    "ExecuteTime": {
     "end_time": "2025-05-14T18:06:17.158534Z",
     "start_time": "2025-05-14T18:06:17.124753Z"
    }
   },
   "cell_type": "code",
   "source": [
    "df = pd.read_csv(r\"C:\\Users\\KIIT0001\\PycharmProjects\\PythonProject\\Machine learning\\learning\\Tutorial\\population_profit.csv\")\n",
    "print(df.head())\n"
   ],
   "id": "d8962dc403afe0bb",
   "outputs": [
    {
     "name": "stdout",
     "output_type": "stream",
     "text": [
      "   Population   Profit\n",
      "0      6.1101  17.5920\n",
      "1      5.5277   9.1302\n",
      "2      8.5186  13.6620\n",
      "3      7.0032  11.8540\n",
      "4      5.8598   6.8233\n"
     ]
    }
   ],
   "execution_count": 6
  },
  {
   "metadata": {},
   "cell_type": "markdown",
   "source": "Conversion of the dataset into numpy array , if data is already preprocessed then no need to do that\n",
   "id": "8ba39e3fee1bb963"
  },
  {
   "metadata": {
    "ExecuteTime": {
     "end_time": "2025-05-14T18:10:08.874353Z",
     "start_time": "2025-05-14T18:10:08.868141Z"
    }
   },
   "cell_type": "code",
   "source": [
    "arr = df.to_numpy()\n",
    "print(type(arr))\n",
    "print(arr)\n",
    "print(arr.shape)"
   ],
   "id": "16a58a3b81893996",
   "outputs": [
    {
     "name": "stdout",
     "output_type": "stream",
     "text": [
      "<class 'numpy.ndarray'>\n",
      "[[ 6.1101  17.592  ]\n",
      " [ 5.5277   9.1302 ]\n",
      " [ 8.5186  13.662  ]\n",
      " [ 7.0032  11.854  ]\n",
      " [ 5.8598   6.8233 ]\n",
      " [ 8.3829  11.886  ]\n",
      " [ 7.4764   4.3483 ]\n",
      " [ 8.5781  12.     ]\n",
      " [ 6.4862   6.5987 ]\n",
      " [ 5.0546   3.8166 ]\n",
      " [ 5.7107   3.2522 ]\n",
      " [14.164   15.505  ]\n",
      " [ 5.734    3.1551 ]\n",
      " [ 8.4084   7.2258 ]\n",
      " [ 5.6407   0.71618]\n",
      " [ 5.3794   3.5129 ]\n",
      " [ 6.3654   5.3048 ]\n",
      " [ 5.1301   0.56077]\n",
      " [ 6.4296   3.6518 ]\n",
      " [ 7.0708   5.3893 ]]\n",
      "(20, 2)\n"
     ]
    }
   ],
   "execution_count": 9
  },
  {
   "metadata": {
    "ExecuteTime": {
     "end_time": "2025-05-14T19:35:51.365583Z",
     "start_time": "2025-05-14T19:35:51.355611Z"
    }
   },
   "cell_type": "code",
   "source": [
    "x_train = arr[:,0].reshape(-1,1)  # conversion of 2 d matrix into column vector and this is the population data\n",
    "y_train = arr[:,1] # this is the profit data of the dataset\n",
    "\n",
    "\n",
    "y_train.shape"
   ],
   "id": "e8f6a6f01c9f9d08",
   "outputs": [
    {
     "data": {
      "text/plain": [
       "(20,)"
      ]
     },
     "execution_count": 35,
     "metadata": {},
     "output_type": "execute_result"
    }
   ],
   "execution_count": 35
  },
  {
   "metadata": {},
   "cell_type": "markdown",
   "source": [
    "calculating the cost  of the linear regression with one variable\n",
    "\n",
    "hypothesis function :  f(x) = w.x + b\n",
    "w: weight or parameter of the function\n",
    "b: bias of the function\n",
    "\n",
    "cost function is represented as J(w,b) = 1/(2*m) ∑(summation range:i=1 to m)(f(x)-y(i))**2\n",
    "\n",
    "m: no. of training example\n",
    "y(i): real value\n",
    "f(x) - y(i):error from the real value\n",
    "cost  function finds us the average of  the sum of the mean squared error\n",
    "\n"
   ],
   "id": "743b0bfa667a7219"
  },
  {
   "metadata": {
    "ExecuteTime": {
     "end_time": "2025-05-14T18:31:34.688592Z",
     "start_time": "2025-05-14T18:31:34.682013Z"
    }
   },
   "cell_type": "code",
   "source": [
    "def compute_cost(x,y,w,b):\n",
    "    m = x.shape[0]\n",
    "    cost = 0\n",
    "    for i in range(m):\n",
    "        f_wb = w*x[i]+b\n",
    "        error = f_wb - y[i]\n",
    "        cost += error**2\n",
    "    total_cost = (1/(2*m))*cost\n",
    "    return total_cost\n"
   ],
   "id": "7b335cd77994df38",
   "outputs": [],
   "execution_count": 24
  },
  {
   "metadata": {},
   "cell_type": "markdown",
   "source": [
    "now we will calculate gradient\n",
    "\n",
    "In this section we will create the function to find the dj_dw , dj_db:\n",
    "so our main objective is to minimize the value of the cost function and put that value in the gradient descent and that part we will solve in the next part .\n",
    "\n",
    "so now we will  see the value of the dj_dw and dj_db in pseudo code format :\n",
    "if we do the differentiation of the dj_dw we will get  this:\n",
    "dj_dw = 1/m * ∑(summation range:1 to m) (f_wb-y[i])*x[i]\n",
    "now we will do the differentiation of dj_db\n",
    "dj_db = 1/m * ∑(summation range:1 to m) (f_wb-y[i])\n"
   ],
   "id": "b10cb1f01e4b7525"
  },
  {
   "metadata": {
    "ExecuteTime": {
     "end_time": "2025-05-14T18:55:14.824189Z",
     "start_time": "2025-05-14T18:55:14.814309Z"
    }
   },
   "cell_type": "code",
   "source": [
    "def compute_gradient(x,y,w,b):\n",
    "    m = x.shape[0]\n",
    "    dj_dw =0\n",
    "    dj_db =0\n",
    "    for i in range(m):\n",
    "        f_wb = w*x[i]+b\n",
    "        error= f_wb-y[i]\n",
    "        dj_dw += error*x[i]\n",
    "        dj_db += error\n",
    "    dj_dw = (1/m)*dj_dw\n",
    "    dj_db = (1/m)*dj_db\n",
    "    return dj_dw,dj_db\n"
   ],
   "id": "908ef0afbd400ff4",
   "outputs": [],
   "execution_count": 25
  },
  {
   "metadata": {},
   "cell_type": "markdown",
   "source": "Now the main thing that will help us to calculate the gradient descent",
   "id": "6ad481ed140b8bad"
  },
  {
   "metadata": {
    "ExecuteTime": {
     "end_time": "2025-05-14T19:40:21.992244Z",
     "start_time": "2025-05-14T19:40:21.983654Z"
    }
   },
   "cell_type": "code",
   "source": [
    "def gradient_descent(x, y, w, b, alpha, num_iters):\n",
    "    w_temp = w\n",
    "    b_temp = b\n",
    "    j_history = []\n",
    "    p_history = []\n",
    "\n",
    "    for i in range(num_iters):\n",
    "        dj_dw, dj_db = compute_gradient(x, y, w_temp, b_temp)\n",
    "\n",
    "        w_temp = w_temp - alpha * dj_dw\n",
    "        b_temp = b_temp - alpha * dj_db\n",
    "\n",
    "        if i < 100000:\n",
    "            j_history.append(compute_cost(x, y, w_temp, b_temp))\n",
    "            p_history.append([w_temp, b_temp])\n",
    "\n",
    "        if i % math.ceil(num_iters / 10) == 0:\n",
    "            # Check if dj_dw is scalar or iterable\n",
    "            if np.isscalar(dj_dw):\n",
    "                print(f\"dj_dw: {dj_dw:0.2e}\")\n",
    "            else:\n",
    "                print(\"dj_dw:\", \", \".join(f\"{x:0.2e}\" for x in dj_dw))\n",
    "            print(f\"dj_db: {dj_db:0.2e}\")\n",
    "\n",
    "    return w_temp, b_temp, j_history, p_history\n"
   ],
   "id": "3accb0c4b23b70af",
   "outputs": [],
   "execution_count": 41
  },
  {
   "metadata": {},
   "cell_type": "markdown",
   "source": "Training the model",
   "id": "41af4fc572032eb0"
  },
  {
   "metadata": {
    "ExecuteTime": {
     "end_time": "2025-05-14T19:40:24.473142Z",
     "start_time": "2025-05-14T19:40:24.427862Z"
    }
   },
   "cell_type": "code",
   "source": [
    "# Initialize parameters\n",
    "initial_w = 0\n",
    "initial_b = 0\n",
    "iterations = 1500\n",
    "alpha = 0.01\n",
    "\n",
    "# Train the model\n",
    "w_final, b_final, J_hist, p_hist = gradient_descent(x_train, y_train, initial_w, initial_b, alpha, iterations)\n",
    "\n",
    "print(f\"Trained weight: {w_final}\")\n",
    "print(f\"Trained bias: {b_final}\")\n"
   ],
   "id": "75483bb83916d9a0",
   "outputs": [
    {
     "name": "stdout",
     "output_type": "stream",
     "text": [
      "dj_dw: -5.66e+01\n",
      "dj_db: -7.30e+00\n",
      "dj_dw: -2.71e-02\n",
      "dj_db: 2.04e-01\n",
      "dj_dw: -2.42e-02\n",
      "dj_db: 1.82e-01\n",
      "dj_dw: -2.16e-02\n",
      "dj_db: 1.63e-01\n",
      "dj_dw: -1.93e-02\n",
      "dj_db: 1.45e-01\n",
      "dj_dw: -1.72e-02\n",
      "dj_db: 1.30e-01\n",
      "dj_dw: -1.54e-02\n",
      "dj_db: 1.16e-01\n",
      "dj_dw: -1.38e-02\n",
      "dj_db: 1.03e-01\n",
      "dj_dw: -1.23e-02\n",
      "dj_db: 9.23e-02\n",
      "dj_dw: -1.10e-02\n",
      "dj_db: 8.24e-02\n",
      "Trained weight: 1.3354895756170568\n",
      "Trained bias: -1.910860066379901\n"
     ]
    }
   ],
   "execution_count": 42
  },
  {
   "metadata": {
    "ExecuteTime": {
     "end_time": "2025-05-14T19:43:32.092289Z",
     "start_time": "2025-05-14T19:43:32.083277Z"
    }
   },
   "cell_type": "code",
   "source": [
    "def predict(x, w, b):\n",
    "    return w * x + b\n",
    "\n",
    "# Predict profit for a city with population 35,000\n",
    "pop1 = 3.5\n",
    "profit1 = predict(pop1, w_final, b_final)\n",
    "print(f\"Predicted profit for population 35,000: ${profit1 * 10000:.2f}\")\n",
    "\n",
    "# Predict profit for a city with population 70,000\n",
    "pop2 = 7.0\n",
    "profit2 = predict(pop2, w_final, b_final)\n",
    "print(f\"Predicted profit for population 70,000: ${profit2 * 10000:.2f}\")\n"
   ],
   "id": "304155282d943770",
   "outputs": [
    {
     "name": "stdout",
     "output_type": "stream",
     "text": [
      "Predicted profit for population 35,000: $27633.53\n",
      "Predicted profit for population 70,000: $74375.67\n"
     ]
    }
   ],
   "execution_count": 45
  },
  {
   "metadata": {
    "ExecuteTime": {
     "end_time": "2025-05-14T19:44:04.453938Z",
     "start_time": "2025-05-14T19:44:03.861999Z"
    }
   },
   "cell_type": "code",
   "source": [
    "# Plotting the training data and model prediction\n",
    "plt.scatter(x_train, y_train, color='red', label=\"Training data\")\n",
    "plt.plot(x_train, w_final * x_train + b_final, color='blue', label=\"Model prediction\")\n",
    "plt.xlabel(\"Population (in 10,000s)\")\n",
    "plt.ylabel(\"Profit (in $10,000s)\")\n",
    "plt.title(\"Profit Prediction vs Population\")\n",
    "plt.legend()\n",
    "plt.grid(True)\n",
    "plt.show()\n"
   ],
   "id": "52fb76b10b9afc49",
   "outputs": [
    {
     "data": {
      "text/plain": [
       "<Figure size 640x480 with 1 Axes>"
      ],
      "image/png": "[encoded data removed]"
     },
     "metadata": {},
     "output_type": "display_data"
    }
   ],
   "execution_count": 46
  },
  {
   "metadata": {
    "ExecuteTime": {
     "end_time": "2025-05-14T19:44:21.657958Z",
     "start_time": "2025-05-14T19:44:21.526972Z"
    }
   },
   "cell_type": "code",
   "source": [
    "plt.plot(J_hist)\n",
    "plt.xlabel(\"Iteration\")\n",
    "plt.ylabel(\"Cost\")\n",
    "plt.title(\"Cost Function over Iterations\")\n",
    "plt.grid(True)\n",
    "plt.show()\n"
   ],
   "id": "55164277f644d85c",
   "outputs": [
    {
     "data": {
      "text/plain": [
       "<Figure size 640x480 with 1 Axes>"
      ],
      "image/png": "[encoded data removed]"
     },
     "metadata": {},
     "output_type": "display_data"
    }
   ],
   "execution_count": 47
  }
 ],
 "metadata": {
  "kernelspec": {
   "name": "python3",
   "language": "python",
   "display_name": "Python 3 (ipykernel)"
  }
 },
 "nbformat": 5,
 "nbformat_minor": 9
}
